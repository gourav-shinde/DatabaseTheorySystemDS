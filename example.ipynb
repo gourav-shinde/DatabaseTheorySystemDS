{
 "cells": [
  {
   "cell_type": "code",
   "execution_count": null,
   "metadata": {},
   "outputs": [],
   "source": [
    "from systemds.context import SystemDSContext\n",
    "from systemds.examples.tutorials.adult import DataManager\n",
    "from systemds.operator.algorithm import multiLogReg\n",
    "from systemds.operator.algorithm import multiLogRegPredict\n",
    "from systemds.operator.algorithm import confusionMatrix\n",
    "\n",
    "with SystemDSContext() as sds:\n",
    "    d = DataManager()\n",
    "\n",
    "    # limit the sample size\n",
    "    train_count = 15000\n",
    "    test_count = 5000\n",
    "\n",
    "    # Get train and test datasets.\n",
    "    X_frame, Y_frame, Xt_frame, Yt_frame = d.get_preprocessed_dataset(sds)\n",
    "\n",
    "    # Transformation specification\n",
    "    jspec_data = d.get_jspec(sds)\n",
    "    jspec_labels = sds.scalar(f'\"{ {\"recode\": [\"income\"]} }\"')\n",
    "\n",
    "    # Transform frames to matrices.\n",
    "    X, M1 = X_frame.transform_encode(spec=jspec_data)\n",
    "    Xt = Xt_frame.transform_apply(spec=jspec_data, meta=M1)\n",
    "    Y, M2 = Y_frame.transform_encode(spec=jspec_labels)\n",
    "    Yt = Yt_frame.transform_apply(spec=jspec_labels, meta=M2)\n",
    "\n",
    "    # Subsample to make training faster\n",
    "    X = X[0:train_count]\n",
    "    Y = Y[0:train_count]\n",
    "    Xt = Xt[0:test_count]\n",
    "    Yt = Yt[0:test_count]\n",
    "    print(X.nCol)\n",
    "    \n",
    "    # Train model\n",
    "    betas = multiLogReg(X, Y, verbose=False)\n",
    "\n",
    "    # Apply model\n",
    "    [_, y_pred, acc] = multiLogRegPredict(Xt, betas, Y=Yt)\n",
    "    print(y_pred)\n",
    "    # Confusion Matrix\n",
    "    confusion_matrix_abs, _ = confusionMatrix(y_pred, Yt).compute()\n",
    "\n",
    "    import logging\n",
    "    logging.info(\"Confusion Matrix\")\n",
    "    print(confusion_matrix_abs)"
   ]
  }
 ],
 "metadata": {
  "language_info": {
   "name": "python"
  }
 },
 "nbformat": 4,
 "nbformat_minor": 2
}
