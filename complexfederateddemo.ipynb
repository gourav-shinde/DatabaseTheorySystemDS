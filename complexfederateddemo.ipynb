{
 "cells": [
  {
   "cell_type": "code",
   "execution_count": 4,
   "metadata": {},
   "outputs": [],
   "source": [
    "# Python\n",
    "import os\n",
    "\n",
    "import numpy as np\n",
    "\n",
    "if not os.path.isdir(\"temp\"):\n",
    "    os.mkdir(\"temp\")\n",
    "a = np.asarray([[1, 2, 3], [4, 5, 6], [7, 8, 9]])\n",
    "np.savetxt(\"temp/test.csv\", a, delimiter=\",\")\n",
    "with open(\"temp/test.csv.mtd\", \"w\") as mtd:\n",
    "    mtd.write('{ \"format\":\"csv\", \"header\":false, \"rows\":3, \"cols\":3 }')"
   ]
  },
  {
   "cell_type": "code",
   "execution_count": 6,
   "metadata": {},
   "outputs": [
    {
     "name": "stderr",
     "output_type": "stream",
     "text": [
      "23/11/15 17:25:17 WARN util.NativeCodeLoader: Unable to load native-hadoop library for your platform... using builtin-java classes where applicable\n"
     ]
    },
    {
     "name": "stdout",
     "output_type": "stream",
     "text": [
      "45.0\n"
     ]
    }
   ],
   "source": [
    "# Python\n",
    "import logging\n",
    "\n",
    "from systemds.context import SystemDSContext\n",
    "\n",
    "# Create a federated matrix\n",
    "# Indicate the dimensions of the data:\n",
    "# Here the first list in the tuple is the top left Coordinate,\n",
    "# and the second the bottom left coordinate.\n",
    "# It is ordered as [col,row].\n",
    "dims = ([0, 0], [3, 3])\n",
    "\n",
    "# Specify the address + file path from worker:\n",
    "address = \"localhost:8001/temp/test.csv\"\n",
    "\n",
    "with SystemDSContext() as sds:\n",
    "    fed_a = sds.federated([address], [dims])\n",
    "    # Sum the federated matrix and call compute to execute\n",
    "    print(fed_a.sum().compute())\n",
    "    # Result should be 45."
   ]
  },
  {
   "cell_type": "code",
   "execution_count": 3,
   "metadata": {},
   "outputs": [
    {
     "name": "stderr",
     "output_type": "stream",
     "text": [
      "23/11/15 17:20:47 WARN util.NativeCodeLoader: Unable to load native-hadoop library for your platform... using builtin-java classes where applicable\n"
     ]
    }
   ],
   "source": [
    "import logging\n",
    "\n",
    "from systemds.context import SystemDSContext\n",
    "from systemds.operator.algorithm import l2svm\n",
    "\n",
    "with SystemDSContext() as sds:\n",
    "    # Generate 10 by 10 matrix with values in range 0 to 100.\n",
    "    features = sds.rand(10, 10, 0, 100)\n",
    "    # Add value to all cells in features\n",
    "    features += 1.1\n",
    "    # Generate labels of all ones and zeros\n",
    "    labels = sds.rand(10, 1, 1, 1, sparsity=0.5)\n",
    "\n",
    "    model = l2svm(features, labels, verbose=False).compute()\n",
    "    logging.info(model)"
   ]
  },
  {
   "cell_type": "code",
   "execution_count": 7,
   "metadata": {},
   "outputs": [
    {
     "name": "stderr",
     "output_type": "stream",
     "text": [
      "23/11/15 17:26:31 WARN util.NativeCodeLoader: Unable to load native-hadoop library for your platform... using builtin-java classes where applicable\n"
     ]
    },
    {
     "name": "stdout",
     "output_type": "stream",
     "text": [
      "[[198. 243. 288.]\n",
      " [198. 243. 288.]\n",
      " [198. 243. 288.]]\n"
     ]
    }
   ],
   "source": [
    "# Python\n",
    "import logging\n",
    "\n",
    "import numpy as np\n",
    "from systemds.context import SystemDSContext\n",
    "\n",
    "addr1 = \"localhost:8001/temp/test.csv\"\n",
    "addr2 = \"localhost:8002/temp/test.csv\"\n",
    "addr3 = \"localhost:8003/temp/test.csv\"\n",
    "\n",
    "# Create a federated matrix using two federated environments\n",
    "# Note that the two federated matrices are stacked on top of each other\n",
    "\n",
    "with SystemDSContext() as sds:\n",
    "    # federated data on three locations\n",
    "    fed = sds.federated([addr1, addr2, addr3], [\n",
    "        ([0, 0], [3, 3]),\n",
    "        ([3, 0], [6, 3]),\n",
    "        ([6, 0], [9, 3])])\n",
    "    # local matrix to multiply with\n",
    "    loc = sds.from_numpy(np.array([\n",
    "        [1, 2, 3, 4, 5, 6, 7, 8, 9],\n",
    "        [1, 2, 3, 4, 5, 6, 7, 8, 9],\n",
    "        [1, 2, 3, 4, 5, 6, 7, 8, 9]\n",
    "    ]))\n",
    "    # Multiply local and federated\n",
    "    ret = loc @ fed\n",
    "    # execute the lazy script and print\n",
    "    print(ret.compute())"
   ]
  }
 ],
 "metadata": {
  "kernelspec": {
   "display_name": "Python 3",
   "language": "python",
   "name": "python3"
  },
  "language_info": {
   "codemirror_mode": {
    "name": "ipython",
    "version": 3
   },
   "file_extension": ".py",
   "mimetype": "text/x-python",
   "name": "python",
   "nbconvert_exporter": "python",
   "pygments_lexer": "ipython3",
   "version": "3.10.12"
  }
 },
 "nbformat": 4,
 "nbformat_minor": 2
}
